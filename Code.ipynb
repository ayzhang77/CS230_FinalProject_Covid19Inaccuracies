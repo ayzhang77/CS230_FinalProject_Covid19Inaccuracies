{
  "nbformat": 4,
  "nbformat_minor": 0,
  "metadata": {
    "colab": {
      "name": "Code.ipynb",
      "provenance": [],
      "collapsed_sections": []
    },
    "kernelspec": {
      "name": "python3",
      "display_name": "Python 3"
    },
    "language_info": {
      "name": "python"
    }
  },
  "cells": [
    {
      "cell_type": "markdown",
      "metadata": {
        "id": "aaDDbm9YSCTi"
      },
      "source": [
        "# A Deep Learning Approach to Quantifying COVID 19 Reporting Inaccuracies in the US\n",
        "## CS230 Final Project 2021\n",
        "### Sameer Sundrani and Amy Zhang\n",
        "### TA Mentor: Ruta & Ayush"
      ]
    },
    {
      "cell_type": "markdown",
      "metadata": {
        "id": "99q0xFEIWe3d"
      },
      "source": [
        "# Imported Libraries & gDrive Mounting"
      ]
    },
    {
      "cell_type": "code",
      "metadata": {
        "id": "Sydz2MwQoC7Q"
      },
      "source": [
        "import numpy as np\n",
        "import pandas as pd\n",
        "import time\n",
        "#TO DO: IMPORT ALL FILES HERE\n",
        "import matplotlib.pyplot as plt\n",
        "from sklearn.model_selection import train_test_split, RepeatedStratifiedKFold, cross_val_score, GridSearchCV, StratifiedKFold, RandomizedSearchCV\n",
        "from sklearn.metrics import explained_variance_score #for linear regression evaluation\n",
        "from sklearn import linear_model\n",
        "from sklearn import preprocessing\n",
        "#END TO DO\n",
        "from google.colab import drive"
      ],
      "execution_count": null,
      "outputs": []
    },
    {
      "cell_type": "code",
      "metadata": {
        "id": "8aj_FCwhUNhO",
        "colab": {
          "base_uri": "https://localhost:8080/"
        },
        "outputId": "1e386a57-22bb-4c2f-99a2-6a6f74cde868"
      },
      "source": [
        "drive.mount('/content/drive', force_remount=True)\n",
        "FOLDERNAME = '/content/drive/MyDrive/CS230_FINAL_PROJECT'\n"
      ],
      "execution_count": null,
      "outputs": [
        {
          "output_type": "stream",
          "name": "stdout",
          "text": [
            "Mounted at /content/drive\n"
          ]
        }
      ]
    },
    {
      "cell_type": "markdown",
      "metadata": {
        "id": "2-t8EMxgUPBE"
      },
      "source": [
        "# Data Processing & Dataset Preparation"
      ]
    },
    {
      "cell_type": "code",
      "metadata": {
        "id": "7ynhJLQ50k9W"
      },
      "source": [
        "travel_data_raw = pd.read_csv(FOLDERNAME + \"/Trips_by_Distance.csv\")\n",
        "covid_counts_raw = pd.read_csv(FOLDERNAME + \"/us-counties.csv\""
      ],
      "execution_count": null,
      "outputs": []
    },
    {
      "cell_type": "code",
      "metadata": {
        "id": "OTHUh2DNpDUg",
        "colab": {
          "base_uri": "https://localhost:8080/",
          "height": 332
        },
        "outputId": "21f7fe99-d860-4e44-b0c6-b14ebe581a91"
      },
      "source": [
        "#travel_data_raw.head()\n",
        "travel_counties = travel_data_raw.loc[travel_data_raw['Level'] == \"County\"]\n",
        "travel_counties_final = travel_counties[['Date', 'State Postal Code', 'County Name', 'Number of Trips', 'Number of Trips <1', 'Number of Trips 1-3', 'Number of Trips 3-5', 'Number of Trips 5-10', 'Number of Trips 10-25', 'Number of Trips 25-50', 'Number of Trips 50-100', 'Number of Trips 100-250', 'Number of Trips 250-500', 'Number of Trips >=500']]\n",
        "travel_counties_final['County Name'] = travel_counties_final['County Name'].apply(lambda x: x.split(\" \")[0])\n",
        "travel_counties_final = travel_counties_final.rename(columns={\"Date\": \"date\", \"State Postal Code\": \"state\", \"County Name\": \"county\"})\n",
        "travel_counties_final.head()"
      ],
      "execution_count": null,
      "outputs": [
        {
          "output_type": "stream",
          "name": "stderr",
          "text": [
            "/usr/local/lib/python3.7/dist-packages/ipykernel_launcher.py:4: SettingWithCopyWarning: \n",
            "A value is trying to be set on a copy of a slice from a DataFrame.\n",
            "Try using .loc[row_indexer,col_indexer] = value instead\n",
            "\n",
            "See the caveats in the documentation: https://pandas.pydata.org/pandas-docs/stable/user_guide/indexing.html#returning-a-view-versus-a-copy\n",
            "  after removing the cwd from sys.path.\n"
          ]
        },
        {
          "output_type": "execute_result",
          "data": {
            "text/html": [
              "<div>\n",
              "<style scoped>\n",
              "    .dataframe tbody tr th:only-of-type {\n",
              "        vertical-align: middle;\n",
              "    }\n",
              "\n",
              "    .dataframe tbody tr th {\n",
              "        vertical-align: top;\n",
              "    }\n",
              "\n",
              "    .dataframe thead th {\n",
              "        text-align: right;\n",
              "    }\n",
              "</style>\n",
              "<table border=\"1\" class=\"dataframe\">\n",
              "  <thead>\n",
              "    <tr style=\"text-align: right;\">\n",
              "      <th></th>\n",
              "      <th>date</th>\n",
              "      <th>state</th>\n",
              "      <th>county</th>\n",
              "      <th>Number of Trips</th>\n",
              "      <th>Number of Trips &lt;1</th>\n",
              "      <th>Number of Trips 1-3</th>\n",
              "      <th>Number of Trips 3-5</th>\n",
              "      <th>Number of Trips 5-10</th>\n",
              "      <th>Number of Trips 10-25</th>\n",
              "      <th>Number of Trips 25-50</th>\n",
              "      <th>Number of Trips 50-100</th>\n",
              "      <th>Number of Trips 100-250</th>\n",
              "      <th>Number of Trips 250-500</th>\n",
              "      <th>Number of Trips &gt;=500</th>\n",
              "    </tr>\n",
              "  </thead>\n",
              "  <tbody>\n",
              "    <tr>\n",
              "      <th>21061</th>\n",
              "      <td>2021/06/06</td>\n",
              "      <td>WY</td>\n",
              "      <td>Weston</td>\n",
              "      <td>22471.0</td>\n",
              "      <td>4160.0</td>\n",
              "      <td>2601.0</td>\n",
              "      <td>948.0</td>\n",
              "      <td>1558.0</td>\n",
              "      <td>5723.0</td>\n",
              "      <td>2202.0</td>\n",
              "      <td>3930.0</td>\n",
              "      <td>1160.0</td>\n",
              "      <td>166.0</td>\n",
              "      <td>23.0</td>\n",
              "    </tr>\n",
              "    <tr>\n",
              "      <th>22762</th>\n",
              "      <td>2021/06/06</td>\n",
              "      <td>AR</td>\n",
              "      <td>Bradley</td>\n",
              "      <td>25022.0</td>\n",
              "      <td>3411.0</td>\n",
              "      <td>4145.0</td>\n",
              "      <td>5901.0</td>\n",
              "      <td>4321.0</td>\n",
              "      <td>3343.0</td>\n",
              "      <td>1793.0</td>\n",
              "      <td>1383.0</td>\n",
              "      <td>690.0</td>\n",
              "      <td>35.0</td>\n",
              "      <td>0.0</td>\n",
              "    </tr>\n",
              "    <tr>\n",
              "      <th>22763</th>\n",
              "      <td>2021/06/06</td>\n",
              "      <td>AR</td>\n",
              "      <td>Calhoun</td>\n",
              "      <td>17543.0</td>\n",
              "      <td>2166.0</td>\n",
              "      <td>2168.0</td>\n",
              "      <td>3195.0</td>\n",
              "      <td>3600.0</td>\n",
              "      <td>4277.0</td>\n",
              "      <td>1141.0</td>\n",
              "      <td>530.0</td>\n",
              "      <td>425.0</td>\n",
              "      <td>41.0</td>\n",
              "      <td>0.0</td>\n",
              "    </tr>\n",
              "    <tr>\n",
              "      <th>22764</th>\n",
              "      <td>2021/06/06</td>\n",
              "      <td>AR</td>\n",
              "      <td>Carroll</td>\n",
              "      <td>77047.0</td>\n",
              "      <td>14712.0</td>\n",
              "      <td>16029.0</td>\n",
              "      <td>11434.0</td>\n",
              "      <td>13170.0</td>\n",
              "      <td>14712.0</td>\n",
              "      <td>4272.0</td>\n",
              "      <td>1227.0</td>\n",
              "      <td>1323.0</td>\n",
              "      <td>132.0</td>\n",
              "      <td>36.0</td>\n",
              "    </tr>\n",
              "    <tr>\n",
              "      <th>22765</th>\n",
              "      <td>2021/06/06</td>\n",
              "      <td>AR</td>\n",
              "      <td>Chicot</td>\n",
              "      <td>31550.0</td>\n",
              "      <td>9483.0</td>\n",
              "      <td>6752.0</td>\n",
              "      <td>4547.0</td>\n",
              "      <td>3929.0</td>\n",
              "      <td>3857.0</td>\n",
              "      <td>1380.0</td>\n",
              "      <td>580.0</td>\n",
              "      <td>957.0</td>\n",
              "      <td>61.0</td>\n",
              "      <td>4.0</td>\n",
              "    </tr>\n",
              "  </tbody>\n",
              "</table>\n",
              "</div>"
            ],
            "text/plain": [
              "             date state  ... Number of Trips 250-500  Number of Trips >=500\n",
              "21061  2021/06/06    WY  ...                   166.0                   23.0\n",
              "22762  2021/06/06    AR  ...                    35.0                    0.0\n",
              "22763  2021/06/06    AR  ...                    41.0                    0.0\n",
              "22764  2021/06/06    AR  ...                   132.0                   36.0\n",
              "22765  2021/06/06    AR  ...                    61.0                    4.0\n",
              "\n",
              "[5 rows x 14 columns]"
            ]
          },
          "metadata": {},
          "execution_count": 3
        }
      ]
    },
    {
      "cell_type": "code",
      "metadata": {
        "colab": {
          "base_uri": "https://localhost:8080/",
          "height": 382
        },
        "id": "_qA3_tzCwUDH",
        "outputId": "5de81072-f3bb-4a6b-a6a6-667269576a70"
      },
      "source": [
        "covid_counts_final = covid_counts_raw[['date', 'county', 'state', 'cases']]\n",
        "covid_counts_final['date'] = covid_counts_final['date'].apply(lambda x: x.replace('-', '/'))\n",
        "us_state_to_abbrev = {\n",
        "    \"Alabama\": \"AL\",\n",
        "    \"Alaska\": \"AK\",\n",
        "    \"Arizona\": \"AZ\",\n",
        "    \"Arkansas\": \"AR\",\n",
        "    \"California\": \"CA\",\n",
        "    \"Colorado\": \"CO\",\n",
        "    \"Connecticut\": \"CT\",\n",
        "    \"Delaware\": \"DE\",\n",
        "    \"Florida\": \"FL\",\n",
        "    \"Georgia\": \"GA\",\n",
        "    \"Hawaii\": \"HI\",\n",
        "    \"Idaho\": \"ID\",\n",
        "    \"Illinois\": \"IL\",\n",
        "    \"Indiana\": \"IN\",\n",
        "    \"Iowa\": \"IA\",\n",
        "    \"Kansas\": \"KS\",\n",
        "    \"Kentucky\": \"KY\",\n",
        "    \"Louisiana\": \"LA\",\n",
        "    \"Maine\": \"ME\",\n",
        "    \"Maryland\": \"MD\",\n",
        "    \"Massachusetts\": \"MA\",\n",
        "    \"Michigan\": \"MI\",\n",
        "    \"Minnesota\": \"MN\",\n",
        "    \"Mississippi\": \"MS\",\n",
        "    \"Missouri\": \"MO\",\n",
        "    \"Montana\": \"MT\",\n",
        "    \"Nebraska\": \"NE\",\n",
        "    \"Nevada\": \"NV\",\n",
        "    \"New Hampshire\": \"NH\",\n",
        "    \"New Jersey\": \"NJ\",\n",
        "    \"New Mexico\": \"NM\",\n",
        "    \"New York\": \"NY\",\n",
        "    \"North Carolina\": \"NC\",\n",
        "    \"North Dakota\": \"ND\",\n",
        "    \"Ohio\": \"OH\",\n",
        "    \"Oklahoma\": \"OK\",\n",
        "    \"Oregon\": \"OR\",\n",
        "    \"Pennsylvania\": \"PA\",\n",
        "    \"Rhode Island\": \"RI\",\n",
        "    \"South Carolina\": \"SC\",\n",
        "    \"South Dakota\": \"SD\",\n",
        "    \"Tennessee\": \"TN\",\n",
        "    \"Texas\": \"TX\",\n",
        "    \"Utah\": \"UT\",\n",
        "    \"Vermont\": \"VT\",\n",
        "    \"Virginia\": \"VA\",\n",
        "    \"Washington\": \"WA\",\n",
        "    \"West Virginia\": \"WV\",\n",
        "    \"Wisconsin\": \"WI\",\n",
        "    \"Wyoming\": \"WY\",\n",
        "    \"District of Columbia\": \"DC\",\n",
        "    \"American Samoa\": \"AS\",\n",
        "    \"Guam\": \"GU\",\n",
        "    \"Northern Mariana Islands\": \"MP\",\n",
        "    \"Puerto Rico\": \"PR\",\n",
        "    \"United States Minor Outlying Islands\": \"UM\",\n",
        "    \"Virgin Islands\": \"VI\",\n",
        "}\n",
        "covid_counts_final['state'] = covid_counts_final['state'].apply(lambda x: us_state_to_abbrev[x])\n",
        "covid_counts_final.head()"
      ],
      "execution_count": null,
      "outputs": [
        {
          "output_type": "stream",
          "name": "stderr",
          "text": [
            "/usr/local/lib/python3.7/dist-packages/ipykernel_launcher.py:3: SettingWithCopyWarning: \n",
            "A value is trying to be set on a copy of a slice from a DataFrame.\n",
            "Try using .loc[row_indexer,col_indexer] = value instead\n",
            "\n",
            "See the caveats in the documentation: https://pandas.pydata.org/pandas-docs/stable/user_guide/indexing.html#returning-a-view-versus-a-copy\n",
            "  This is separate from the ipykernel package so we can avoid doing imports until\n",
            "/usr/local/lib/python3.7/dist-packages/ipykernel_launcher.py:63: SettingWithCopyWarning: \n",
            "A value is trying to be set on a copy of a slice from a DataFrame.\n",
            "Try using .loc[row_indexer,col_indexer] = value instead\n",
            "\n",
            "See the caveats in the documentation: https://pandas.pydata.org/pandas-docs/stable/user_guide/indexing.html#returning-a-view-versus-a-copy\n"
          ]
        },
        {
          "output_type": "execute_result",
          "data": {
            "text/html": [
              "<div>\n",
              "<style scoped>\n",
              "    .dataframe tbody tr th:only-of-type {\n",
              "        vertical-align: middle;\n",
              "    }\n",
              "\n",
              "    .dataframe tbody tr th {\n",
              "        vertical-align: top;\n",
              "    }\n",
              "\n",
              "    .dataframe thead th {\n",
              "        text-align: right;\n",
              "    }\n",
              "</style>\n",
              "<table border=\"1\" class=\"dataframe\">\n",
              "  <thead>\n",
              "    <tr style=\"text-align: right;\">\n",
              "      <th></th>\n",
              "      <th>date</th>\n",
              "      <th>county</th>\n",
              "      <th>state</th>\n",
              "      <th>cases</th>\n",
              "    </tr>\n",
              "  </thead>\n",
              "  <tbody>\n",
              "    <tr>\n",
              "      <th>0</th>\n",
              "      <td>2020/01/21</td>\n",
              "      <td>Snohomish</td>\n",
              "      <td>WA</td>\n",
              "      <td>1</td>\n",
              "    </tr>\n",
              "    <tr>\n",
              "      <th>1</th>\n",
              "      <td>2020/01/22</td>\n",
              "      <td>Snohomish</td>\n",
              "      <td>WA</td>\n",
              "      <td>1</td>\n",
              "    </tr>\n",
              "    <tr>\n",
              "      <th>2</th>\n",
              "      <td>2020/01/23</td>\n",
              "      <td>Snohomish</td>\n",
              "      <td>WA</td>\n",
              "      <td>1</td>\n",
              "    </tr>\n",
              "    <tr>\n",
              "      <th>3</th>\n",
              "      <td>2020/01/24</td>\n",
              "      <td>Cook</td>\n",
              "      <td>IL</td>\n",
              "      <td>1</td>\n",
              "    </tr>\n",
              "    <tr>\n",
              "      <th>4</th>\n",
              "      <td>2020/01/24</td>\n",
              "      <td>Snohomish</td>\n",
              "      <td>WA</td>\n",
              "      <td>1</td>\n",
              "    </tr>\n",
              "  </tbody>\n",
              "</table>\n",
              "</div>"
            ],
            "text/plain": [
              "         date     county state  cases\n",
              "0  2020/01/21  Snohomish    WA      1\n",
              "1  2020/01/22  Snohomish    WA      1\n",
              "2  2020/01/23  Snohomish    WA      1\n",
              "3  2020/01/24       Cook    IL      1\n",
              "4  2020/01/24  Snohomish    WA      1"
            ]
          },
          "metadata": {},
          "execution_count": 4
        }
      ]
    },
    {
      "cell_type": "code",
      "metadata": {
        "colab": {
          "base_uri": "https://localhost:8080/",
          "height": 234
        },
        "id": "SxZkx90Lyj0Q",
        "outputId": "157cf59d-76ab-48cf-93b4-5386f020de26"
      },
      "source": [
        "final_data = pd.merge(covid_counts_final, travel_counties_final)\n",
        "final_data.head()"
      ],
      "execution_count": null,
      "outputs": [
        {
          "output_type": "execute_result",
          "data": {
            "text/html": [
              "<div>\n",
              "<style scoped>\n",
              "    .dataframe tbody tr th:only-of-type {\n",
              "        vertical-align: middle;\n",
              "    }\n",
              "\n",
              "    .dataframe tbody tr th {\n",
              "        vertical-align: top;\n",
              "    }\n",
              "\n",
              "    .dataframe thead th {\n",
              "        text-align: right;\n",
              "    }\n",
              "</style>\n",
              "<table border=\"1\" class=\"dataframe\">\n",
              "  <thead>\n",
              "    <tr style=\"text-align: right;\">\n",
              "      <th></th>\n",
              "      <th>date</th>\n",
              "      <th>county</th>\n",
              "      <th>state</th>\n",
              "      <th>cases</th>\n",
              "      <th>Number of Trips</th>\n",
              "      <th>Number of Trips &lt;1</th>\n",
              "      <th>Number of Trips 1-3</th>\n",
              "      <th>Number of Trips 3-5</th>\n",
              "      <th>Number of Trips 5-10</th>\n",
              "      <th>Number of Trips 10-25</th>\n",
              "      <th>Number of Trips 25-50</th>\n",
              "      <th>Number of Trips 50-100</th>\n",
              "      <th>Number of Trips 100-250</th>\n",
              "      <th>Number of Trips 250-500</th>\n",
              "      <th>Number of Trips &gt;=500</th>\n",
              "    </tr>\n",
              "  </thead>\n",
              "  <tbody>\n",
              "    <tr>\n",
              "      <th>0</th>\n",
              "      <td>2020/01/21</td>\n",
              "      <td>Snohomish</td>\n",
              "      <td>WA</td>\n",
              "      <td>1</td>\n",
              "      <td>2944078.0</td>\n",
              "      <td>762651.0</td>\n",
              "      <td>726576.0</td>\n",
              "      <td>308236.0</td>\n",
              "      <td>417195.0</td>\n",
              "      <td>540130.0</td>\n",
              "      <td>159563.0</td>\n",
              "      <td>20442.0</td>\n",
              "      <td>4391.0</td>\n",
              "      <td>1152.0</td>\n",
              "      <td>3742.0</td>\n",
              "    </tr>\n",
              "    <tr>\n",
              "      <th>1</th>\n",
              "      <td>2020/01/22</td>\n",
              "      <td>Snohomish</td>\n",
              "      <td>WA</td>\n",
              "      <td>1</td>\n",
              "      <td>3006800.0</td>\n",
              "      <td>784271.0</td>\n",
              "      <td>732019.0</td>\n",
              "      <td>311760.0</td>\n",
              "      <td>432308.0</td>\n",
              "      <td>551873.0</td>\n",
              "      <td>165546.0</td>\n",
              "      <td>21241.0</td>\n",
              "      <td>3654.0</td>\n",
              "      <td>1031.0</td>\n",
              "      <td>3097.0</td>\n",
              "    </tr>\n",
              "    <tr>\n",
              "      <th>2</th>\n",
              "      <td>2020/01/23</td>\n",
              "      <td>Snohomish</td>\n",
              "      <td>WA</td>\n",
              "      <td>1</td>\n",
              "      <td>2952207.0</td>\n",
              "      <td>782244.0</td>\n",
              "      <td>724152.0</td>\n",
              "      <td>305706.0</td>\n",
              "      <td>405046.0</td>\n",
              "      <td>535931.0</td>\n",
              "      <td>167202.0</td>\n",
              "      <td>22195.0</td>\n",
              "      <td>5095.0</td>\n",
              "      <td>1135.0</td>\n",
              "      <td>3501.0</td>\n",
              "    </tr>\n",
              "    <tr>\n",
              "      <th>3</th>\n",
              "      <td>2020/01/24</td>\n",
              "      <td>Cook</td>\n",
              "      <td>IL</td>\n",
              "      <td>1</td>\n",
              "      <td>21307310.0</td>\n",
              "      <td>6266951.0</td>\n",
              "      <td>5185299.0</td>\n",
              "      <td>2574174.0</td>\n",
              "      <td>3260629.0</td>\n",
              "      <td>2988478.0</td>\n",
              "      <td>774147.0</td>\n",
              "      <td>130659.0</td>\n",
              "      <td>86057.0</td>\n",
              "      <td>24356.0</td>\n",
              "      <td>16560.0</td>\n",
              "    </tr>\n",
              "    <tr>\n",
              "      <th>4</th>\n",
              "      <td>2020/01/24</td>\n",
              "      <td>Snohomish</td>\n",
              "      <td>WA</td>\n",
              "      <td>1</td>\n",
              "      <td>3167046.0</td>\n",
              "      <td>857787.0</td>\n",
              "      <td>779656.0</td>\n",
              "      <td>334594.0</td>\n",
              "      <td>448890.0</td>\n",
              "      <td>550137.0</td>\n",
              "      <td>160682.0</td>\n",
              "      <td>23484.0</td>\n",
              "      <td>6369.0</td>\n",
              "      <td>1343.0</td>\n",
              "      <td>4104.0</td>\n",
              "    </tr>\n",
              "  </tbody>\n",
              "</table>\n",
              "</div>"
            ],
            "text/plain": [
              "         date     county  ... Number of Trips 250-500  Number of Trips >=500\n",
              "0  2020/01/21  Snohomish  ...                  1152.0                 3742.0\n",
              "1  2020/01/22  Snohomish  ...                  1031.0                 3097.0\n",
              "2  2020/01/23  Snohomish  ...                  1135.0                 3501.0\n",
              "3  2020/01/24       Cook  ...                 24356.0                16560.0\n",
              "4  2020/01/24  Snohomish  ...                  1343.0                 4104.0\n",
              "\n",
              "[5 rows x 15 columns]"
            ]
          },
          "metadata": {},
          "execution_count": 5
        }
      ]
    },
    {
      "cell_type": "code",
      "metadata": {
        "id": "gLQsyvwP-nW8"
      },
      "source": [
        "final_data.to_csv(FOLDERNAME+'/final_data.csv')"
      ],
      "execution_count": null,
      "outputs": []
    },
    {
      "cell_type": "code",
      "metadata": {
        "colab": {
          "base_uri": "https://localhost:8080/"
        },
        "id": "VSoJjRr3CFNo",
        "outputId": "aedab7d4-c262-4107-90b9-4777771de87e"
      },
      "source": [
        "print(\"Number of Total Inputs: \", len(final_data))\n",
        "# print(\"Confirmed (number should be the same): \",np.sum(final_data.groupby('county').size().to_list()))\n",
        "print(\"Number of Total Counties: \" ,len(final_data.groupby('county').size().to_list()))"
      ],
      "execution_count": null,
      "outputs": [
        {
          "output_type": "stream",
          "name": "stdout",
          "text": [
            "Number of Total Inputs:  1609217\n",
            "Number of Total Counties:  1620\n"
          ]
        }
      ]
    },
    {
      "cell_type": "markdown",
      "metadata": {
        "id": "8YJGIM0B7ZS6"
      },
      "source": [
        "# Initial Data Visualization - Number Recorded Days per County (Initial Distribution)"
      ]
    },
    {
      "cell_type": "code",
      "metadata": {
        "colab": {
          "base_uri": "https://localhost:8080/",
          "height": 310
        },
        "id": "hGxU-8Nk5u45",
        "outputId": "0a384b39-a52c-4dae-a586-4ee1c1f55f10"
      },
      "source": [
        "cases_by_county_df = final_data.groupby('county').size()\n",
        "plt.plot(cases_by_county_df)\n",
        "plt.title('Distribution of Counts of Dates Recorded by County')\n",
        "plt.xlabel('County')\n",
        "plt.ylabel('Number of Recorded Days')"
      ],
      "execution_count": null,
      "outputs": [
        {
          "output_type": "execute_result",
          "data": {
            "text/plain": [
              "Text(0, 0.5, 'Number of Recorded Days')"
            ]
          },
          "metadata": {},
          "execution_count": 27
        },
        {
          "output_type": "display_data",
          "data": {
            "image/png": "[encoded data removed]",
            "text/plain": [
              "<Figure size 432x288 with 1 Axes>"
            ]
          },
          "metadata": {
            "needs_background": "light"
          }
        }
      ]
    },
    {
      "cell_type": "markdown",
      "metadata": {
        "id": "Iv8JTLiN-Gu_"
      },
      "source": [
        "# Initial Modeling (Begin **Here** if Data is Preprocessed)"
      ]
    },
    {
      "cell_type": "code",
      "metadata": {
        "colab": {
          "base_uri": "https://localhost:8080/",
          "height": 221
        },
        "id": "fasxxLN5-TDw",
        "outputId": "df63cf60-b482-48fc-d14e-cf3c5218bb13"
      },
      "source": [
        "final_data = pd.read_csv(FOLDERNAME+'/final_data.csv').iloc[0:, 1:]\n",
        "final_data = final_data.dropna()\n",
        "final_data.head()"
      ],
      "execution_count": null,
      "outputs": [
        {
          "output_type": "execute_result",
          "data": {
            "text/html": [
              "<div>\n",
              "<style scoped>\n",
              "    .dataframe tbody tr th:only-of-type {\n",
              "        vertical-align: middle;\n",
              "    }\n",
              "\n",
              "    .dataframe tbody tr th {\n",
              "        vertical-align: top;\n",
              "    }\n",
              "\n",
              "    .dataframe thead th {\n",
              "        text-align: right;\n",
              "    }\n",
              "</style>\n",
              "<table border=\"1\" class=\"dataframe\">\n",
              "  <thead>\n",
              "    <tr style=\"text-align: right;\">\n",
              "      <th></th>\n",
              "      <th>date</th>\n",
              "      <th>county</th>\n",
              "      <th>state</th>\n",
              "      <th>cases</th>\n",
              "      <th>Number of Trips</th>\n",
              "      <th>Number of Trips &lt;1</th>\n",
              "      <th>Number of Trips 1-3</th>\n",
              "      <th>Number of Trips 3-5</th>\n",
              "      <th>Number of Trips 5-10</th>\n",
              "      <th>Number of Trips 10-25</th>\n",
              "      <th>Number of Trips 25-50</th>\n",
              "      <th>Number of Trips 50-100</th>\n",
              "      <th>Number of Trips 100-250</th>\n",
              "      <th>Number of Trips 250-500</th>\n",
              "      <th>Number of Trips &gt;=500</th>\n",
              "    </tr>\n",
              "  </thead>\n",
              "  <tbody>\n",
              "    <tr>\n",
              "      <th>0</th>\n",
              "      <td>2020/01/21</td>\n",
              "      <td>Snohomish</td>\n",
              "      <td>WA</td>\n",
              "      <td>1</td>\n",
              "      <td>2944078.0</td>\n",
              "      <td>762651.0</td>\n",
              "      <td>726576.0</td>\n",
              "      <td>308236.0</td>\n",
              "      <td>417195.0</td>\n",
              "      <td>540130.0</td>\n",
              "      <td>159563.0</td>\n",
              "      <td>20442.0</td>\n",
              "      <td>4391.0</td>\n",
              "      <td>1152.0</td>\n",
              "      <td>3742.0</td>\n",
              "    </tr>\n",
              "    <tr>\n",
              "      <th>1</th>\n",
              "      <td>2020/01/22</td>\n",
              "      <td>Snohomish</td>\n",
              "      <td>WA</td>\n",
              "      <td>1</td>\n",
              "      <td>3006800.0</td>\n",
              "      <td>784271.0</td>\n",
              "      <td>732019.0</td>\n",
              "      <td>311760.0</td>\n",
              "      <td>432308.0</td>\n",
              "      <td>551873.0</td>\n",
              "      <td>165546.0</td>\n",
              "      <td>21241.0</td>\n",
              "      <td>3654.0</td>\n",
              "      <td>1031.0</td>\n",
              "      <td>3097.0</td>\n",
              "    </tr>\n",
              "    <tr>\n",
              "      <th>2</th>\n",
              "      <td>2020/01/23</td>\n",
              "      <td>Snohomish</td>\n",
              "      <td>WA</td>\n",
              "      <td>1</td>\n",
              "      <td>2952207.0</td>\n",
              "      <td>782244.0</td>\n",
              "      <td>724152.0</td>\n",
              "      <td>305706.0</td>\n",
              "      <td>405046.0</td>\n",
              "      <td>535931.0</td>\n",
              "      <td>167202.0</td>\n",
              "      <td>22195.0</td>\n",
              "      <td>5095.0</td>\n",
              "      <td>1135.0</td>\n",
              "      <td>3501.0</td>\n",
              "    </tr>\n",
              "    <tr>\n",
              "      <th>3</th>\n",
              "      <td>2020/01/24</td>\n",
              "      <td>Cook</td>\n",
              "      <td>IL</td>\n",
              "      <td>1</td>\n",
              "      <td>21307310.0</td>\n",
              "      <td>6266951.0</td>\n",
              "      <td>5185299.0</td>\n",
              "      <td>2574174.0</td>\n",
              "      <td>3260629.0</td>\n",
              "      <td>2988478.0</td>\n",
              "      <td>774147.0</td>\n",
              "      <td>130659.0</td>\n",
              "      <td>86057.0</td>\n",
              "      <td>24356.0</td>\n",
              "      <td>16560.0</td>\n",
              "    </tr>\n",
              "    <tr>\n",
              "      <th>4</th>\n",
              "      <td>2020/01/24</td>\n",
              "      <td>Snohomish</td>\n",
              "      <td>WA</td>\n",
              "      <td>1</td>\n",
              "      <td>3167046.0</td>\n",
              "      <td>857787.0</td>\n",
              "      <td>779656.0</td>\n",
              "      <td>334594.0</td>\n",
              "      <td>448890.0</td>\n",
              "      <td>550137.0</td>\n",
              "      <td>160682.0</td>\n",
              "      <td>23484.0</td>\n",
              "      <td>6369.0</td>\n",
              "      <td>1343.0</td>\n",
              "      <td>4104.0</td>\n",
              "    </tr>\n",
              "  </tbody>\n",
              "</table>\n",
              "</div>"
            ],
            "text/plain": [
              "         date     county  ... Number of Trips 250-500  Number of Trips >=500\n",
              "0  2020/01/21  Snohomish  ...                  1152.0                 3742.0\n",
              "1  2020/01/22  Snohomish  ...                  1031.0                 3097.0\n",
              "2  2020/01/23  Snohomish  ...                  1135.0                 3501.0\n",
              "3  2020/01/24       Cook  ...                 24356.0                16560.0\n",
              "4  2020/01/24  Snohomish  ...                  1343.0                 4104.0\n",
              "\n",
              "[5 rows x 15 columns]"
            ]
          },
          "metadata": {},
          "execution_count": 3
        }
      ]
    },
    {
      "cell_type": "code",
      "metadata": {
        "colab": {
          "base_uri": "https://localhost:8080/"
        },
        "id": "3qkqkR6cNxQL",
        "outputId": "47b605fc-6f68-472d-b0a6-edd7a97b5509"
      },
      "source": [
        "#Quick Check for NA/NaN in data\n",
        "final_data.isnull().any()"
      ],
      "execution_count": null,
      "outputs": [
        {
          "output_type": "execute_result",
          "data": {
            "text/plain": [
              "date                       False\n",
              "county                     False\n",
              "state                      False\n",
              "cases                      False\n",
              "Number of Trips            False\n",
              "Number of Trips <1         False\n",
              "Number of Trips 1-3        False\n",
              "Number of Trips 3-5        False\n",
              "Number of Trips 5-10       False\n",
              "Number of Trips 10-25      False\n",
              "Number of Trips 25-50      False\n",
              "Number of Trips 50-100     False\n",
              "Number of Trips 100-250    False\n",
              "Number of Trips 250-500    False\n",
              "Number of Trips >=500      False\n",
              "dtype: bool"
            ]
          },
          "metadata": {},
          "execution_count": 4
        }
      ]
    },
    {
      "cell_type": "code",
      "metadata": {
        "colab": {
          "base_uri": "https://localhost:8080/",
          "height": 436
        },
        "id": "cWNymq6dYAed",
        "outputId": "cd1b4a72-71b1-4881-8a0a-772f08467fb1"
      },
      "source": [
        "#Check Dates: \n",
        "dates_ordered = final_data.groupby('date')\n",
        "dates_ordered.head()"
      ],
      "execution_count": null,
      "outputs": [
        {
          "output_type": "execute_result",
          "data": {
            "text/html": [
              "<div>\n",
              "<style scoped>\n",
              "    .dataframe tbody tr th:only-of-type {\n",
              "        vertical-align: middle;\n",
              "    }\n",
              "\n",
              "    .dataframe tbody tr th {\n",
              "        vertical-align: top;\n",
              "    }\n",
              "\n",
              "    .dataframe thead th {\n",
              "        text-align: right;\n",
              "    }\n",
              "</style>\n",
              "<table border=\"1\" class=\"dataframe\">\n",
              "  <thead>\n",
              "    <tr style=\"text-align: right;\">\n",
              "      <th></th>\n",
              "      <th>date</th>\n",
              "      <th>county</th>\n",
              "      <th>state</th>\n",
              "      <th>cases</th>\n",
              "      <th>Number of Trips</th>\n",
              "      <th>Number of Trips &lt;1</th>\n",
              "      <th>Number of Trips 1-3</th>\n",
              "      <th>Number of Trips 3-5</th>\n",
              "      <th>Number of Trips 5-10</th>\n",
              "      <th>Number of Trips 10-25</th>\n",
              "      <th>Number of Trips 25-50</th>\n",
              "      <th>Number of Trips 50-100</th>\n",
              "      <th>Number of Trips 100-250</th>\n",
              "      <th>Number of Trips 250-500</th>\n",
              "      <th>Number of Trips &gt;=500</th>\n",
              "    </tr>\n",
              "  </thead>\n",
              "  <tbody>\n",
              "    <tr>\n",
              "      <th>0</th>\n",
              "      <td>2020/01/21</td>\n",
              "      <td>Snohomish</td>\n",
              "      <td>WA</td>\n",
              "      <td>1</td>\n",
              "      <td>2944078.0</td>\n",
              "      <td>762651.0</td>\n",
              "      <td>726576.0</td>\n",
              "      <td>308236.0</td>\n",
              "      <td>417195.0</td>\n",
              "      <td>540130.0</td>\n",
              "      <td>159563.0</td>\n",
              "      <td>20442.0</td>\n",
              "      <td>4391.0</td>\n",
              "      <td>1152.0</td>\n",
              "      <td>3742.0</td>\n",
              "    </tr>\n",
              "    <tr>\n",
              "      <th>1</th>\n",
              "      <td>2020/01/22</td>\n",
              "      <td>Snohomish</td>\n",
              "      <td>WA</td>\n",
              "      <td>1</td>\n",
              "      <td>3006800.0</td>\n",
              "      <td>784271.0</td>\n",
              "      <td>732019.0</td>\n",
              "      <td>311760.0</td>\n",
              "      <td>432308.0</td>\n",
              "      <td>551873.0</td>\n",
              "      <td>165546.0</td>\n",
              "      <td>21241.0</td>\n",
              "      <td>3654.0</td>\n",
              "      <td>1031.0</td>\n",
              "      <td>3097.0</td>\n",
              "    </tr>\n",
              "    <tr>\n",
              "      <th>2</th>\n",
              "      <td>2020/01/23</td>\n",
              "      <td>Snohomish</td>\n",
              "      <td>WA</td>\n",
              "      <td>1</td>\n",
              "      <td>2952207.0</td>\n",
              "      <td>782244.0</td>\n",
              "      <td>724152.0</td>\n",
              "      <td>305706.0</td>\n",
              "      <td>405046.0</td>\n",
              "      <td>535931.0</td>\n",
              "      <td>167202.0</td>\n",
              "      <td>22195.0</td>\n",
              "      <td>5095.0</td>\n",
              "      <td>1135.0</td>\n",
              "      <td>3501.0</td>\n",
              "    </tr>\n",
              "    <tr>\n",
              "      <th>3</th>\n",
              "      <td>2020/01/24</td>\n",
              "      <td>Cook</td>\n",
              "      <td>IL</td>\n",
              "      <td>1</td>\n",
              "      <td>21307310.0</td>\n",
              "      <td>6266951.0</td>\n",
              "      <td>5185299.0</td>\n",
              "      <td>2574174.0</td>\n",
              "      <td>3260629.0</td>\n",
              "      <td>2988478.0</td>\n",
              "      <td>774147.0</td>\n",
              "      <td>130659.0</td>\n",
              "      <td>86057.0</td>\n",
              "      <td>24356.0</td>\n",
              "      <td>16560.0</td>\n",
              "    </tr>\n",
              "    <tr>\n",
              "      <th>4</th>\n",
              "      <td>2020/01/24</td>\n",
              "      <td>Snohomish</td>\n",
              "      <td>WA</td>\n",
              "      <td>1</td>\n",
              "      <td>3167046.0</td>\n",
              "      <td>857787.0</td>\n",
              "      <td>779656.0</td>\n",
              "      <td>334594.0</td>\n",
              "      <td>448890.0</td>\n",
              "      <td>550137.0</td>\n",
              "      <td>160682.0</td>\n",
              "      <td>23484.0</td>\n",
              "      <td>6369.0</td>\n",
              "      <td>1343.0</td>\n",
              "      <td>4104.0</td>\n",
              "    </tr>\n",
              "    <tr>\n",
              "      <th>...</th>\n",
              "      <td>...</td>\n",
              "      <td>...</td>\n",
              "      <td>...</td>\n",
              "      <td>...</td>\n",
              "      <td>...</td>\n",
              "      <td>...</td>\n",
              "      <td>...</td>\n",
              "      <td>...</td>\n",
              "      <td>...</td>\n",
              "      <td>...</td>\n",
              "      <td>...</td>\n",
              "      <td>...</td>\n",
              "      <td>...</td>\n",
              "      <td>...</td>\n",
              "      <td>...</td>\n",
              "    </tr>\n",
              "    <tr>\n",
              "      <th>1606319</th>\n",
              "      <td>2021/10/09</td>\n",
              "      <td>Autauga</td>\n",
              "      <td>AL</td>\n",
              "      <td>9843</td>\n",
              "      <td>157429.0</td>\n",
              "      <td>35283.0</td>\n",
              "      <td>35381.0</td>\n",
              "      <td>16280.0</td>\n",
              "      <td>19496.0</td>\n",
              "      <td>36916.0</td>\n",
              "      <td>7960.0</td>\n",
              "      <td>3687.0</td>\n",
              "      <td>2096.0</td>\n",
              "      <td>285.0</td>\n",
              "      <td>45.0</td>\n",
              "    </tr>\n",
              "    <tr>\n",
              "      <th>1606320</th>\n",
              "      <td>2021/10/09</td>\n",
              "      <td>Baldwin</td>\n",
              "      <td>AL</td>\n",
              "      <td>36870</td>\n",
              "      <td>602903.0</td>\n",
              "      <td>125819.0</td>\n",
              "      <td>147443.0</td>\n",
              "      <td>75865.0</td>\n",
              "      <td>97680.0</td>\n",
              "      <td>105601.0</td>\n",
              "      <td>35869.0</td>\n",
              "      <td>8170.0</td>\n",
              "      <td>4230.0</td>\n",
              "      <td>1730.0</td>\n",
              "      <td>496.0</td>\n",
              "    </tr>\n",
              "    <tr>\n",
              "      <th>1606321</th>\n",
              "      <td>2021/10/09</td>\n",
              "      <td>Barbour</td>\n",
              "      <td>AL</td>\n",
              "      <td>3545</td>\n",
              "      <td>82550.0</td>\n",
              "      <td>18235.0</td>\n",
              "      <td>16826.0</td>\n",
              "      <td>10033.0</td>\n",
              "      <td>18291.0</td>\n",
              "      <td>10029.0</td>\n",
              "      <td>6079.0</td>\n",
              "      <td>2213.0</td>\n",
              "      <td>687.0</td>\n",
              "      <td>147.0</td>\n",
              "      <td>10.0</td>\n",
              "    </tr>\n",
              "    <tr>\n",
              "      <th>1606322</th>\n",
              "      <td>2021/10/09</td>\n",
              "      <td>Bibb</td>\n",
              "      <td>AL</td>\n",
              "      <td>4192</td>\n",
              "      <td>68339.0</td>\n",
              "      <td>8012.0</td>\n",
              "      <td>16078.0</td>\n",
              "      <td>7679.0</td>\n",
              "      <td>18108.0</td>\n",
              "      <td>9321.0</td>\n",
              "      <td>6373.0</td>\n",
              "      <td>2150.0</td>\n",
              "      <td>510.0</td>\n",
              "      <td>96.0</td>\n",
              "      <td>12.0</td>\n",
              "    </tr>\n",
              "    <tr>\n",
              "      <th>1606323</th>\n",
              "      <td>2021/10/09</td>\n",
              "      <td>Blount</td>\n",
              "      <td>AL</td>\n",
              "      <td>9998</td>\n",
              "      <td>165381.0</td>\n",
              "      <td>22643.0</td>\n",
              "      <td>35234.0</td>\n",
              "      <td>23182.0</td>\n",
              "      <td>24956.0</td>\n",
              "      <td>36735.0</td>\n",
              "      <td>16380.0</td>\n",
              "      <td>3764.0</td>\n",
              "      <td>1870.0</td>\n",
              "      <td>546.0</td>\n",
              "      <td>71.0</td>\n",
              "    </tr>\n",
              "  </tbody>\n",
              "</table>\n",
              "<p>3117 rows × 15 columns</p>\n",
              "</div>"
            ],
            "text/plain": [
              "               date     county  ... Number of Trips 250-500  Number of Trips >=500\n",
              "0        2020/01/21  Snohomish  ...                  1152.0                 3742.0\n",
              "1        2020/01/22  Snohomish  ...                  1031.0                 3097.0\n",
              "2        2020/01/23  Snohomish  ...                  1135.0                 3501.0\n",
              "3        2020/01/24       Cook  ...                 24356.0                16560.0\n",
              "4        2020/01/24  Snohomish  ...                  1343.0                 4104.0\n",
              "...             ...        ...  ...                     ...                    ...\n",
              "1606319  2021/10/09    Autauga  ...                   285.0                   45.0\n",
              "1606320  2021/10/09    Baldwin  ...                  1730.0                  496.0\n",
              "1606321  2021/10/09    Barbour  ...                   147.0                   10.0\n",
              "1606322  2021/10/09       Bibb  ...                    96.0                   12.0\n",
              "1606323  2021/10/09     Blount  ...                   546.0                   71.0\n",
              "\n",
              "[3117 rows x 15 columns]"
            ]
          },
          "metadata": {},
          "execution_count": 5
        }
      ]
    },
    {
      "cell_type": "code",
      "metadata": {
        "colab": {
          "base_uri": "https://localhost:8080/"
        },
        "id": "XsLzBh35B-w-",
        "outputId": "6d59920d-e975-4276-c355-34f41eb66134"
      },
      "source": [
        "print(\"To Confirm: Number of Total Inputs: (should <= 1609217 (b/c of some previous null values)) \", len(final_data))"
      ],
      "execution_count": null,
      "outputs": [
        {
          "output_type": "stream",
          "name": "stdout",
          "text": [
            "To Confirm: Number of Total Inputs: (should <= 1609217 (b/c of previous null values))  1602900\n"
          ]
        }
      ]
    },
    {
      "cell_type": "code",
      "metadata": {
        "colab": {
          "base_uri": "https://localhost:8080/",
          "height": 221
        },
        "id": "NiunjoxMuDd-",
        "outputId": "94f11c4e-6aa7-4cf6-e0f3-5250eb6d8c71"
      },
      "source": [
        "# normalize travel data portion of final_data to have zero mean and unit variance to optimize learning\n",
        "scaler = preprocessing.StandardScaler().fit(final_data.iloc[:, 4:])\n",
        "final_data.iloc[:, 4:] =  scaler.transform(final_data.iloc[:, 4:])\n",
        "final_data.head()"
      ],
      "execution_count": null,
      "outputs": [
        {
          "output_type": "execute_result",
          "data": {
            "text/html": [
              "<div>\n",
              "<style scoped>\n",
              "    .dataframe tbody tr th:only-of-type {\n",
              "        vertical-align: middle;\n",
              "    }\n",
              "\n",
              "    .dataframe tbody tr th {\n",
              "        vertical-align: top;\n",
              "    }\n",
              "\n",
              "    .dataframe thead th {\n",
              "        text-align: right;\n",
              "    }\n",
              "</style>\n",
              "<table border=\"1\" class=\"dataframe\">\n",
              "  <thead>\n",
              "    <tr style=\"text-align: right;\">\n",
              "      <th></th>\n",
              "      <th>date</th>\n",
              "      <th>county</th>\n",
              "      <th>state</th>\n",
              "      <th>cases</th>\n",
              "      <th>Number of Trips</th>\n",
              "      <th>Number of Trips &lt;1</th>\n",
              "      <th>Number of Trips 1-3</th>\n",
              "      <th>Number of Trips 3-5</th>\n",
              "      <th>Number of Trips 5-10</th>\n",
              "      <th>Number of Trips 10-25</th>\n",
              "      <th>Number of Trips 25-50</th>\n",
              "      <th>Number of Trips 50-100</th>\n",
              "      <th>Number of Trips 100-250</th>\n",
              "      <th>Number of Trips 250-500</th>\n",
              "      <th>Number of Trips &gt;=500</th>\n",
              "    </tr>\n",
              "  </thead>\n",
              "  <tbody>\n",
              "    <tr>\n",
              "      <th>0</th>\n",
              "      <td>2020/01/21</td>\n",
              "      <td>Snohomish</td>\n",
              "      <td>WA</td>\n",
              "      <td>1</td>\n",
              "      <td>2.987427</td>\n",
              "      <td>2.691879</td>\n",
              "      <td>3.069250</td>\n",
              "      <td>2.572461</td>\n",
              "      <td>2.770508</td>\n",
              "      <td>3.852225</td>\n",
              "      <td>3.779457</td>\n",
              "      <td>1.243063</td>\n",
              "      <td>0.303066</td>\n",
              "      <td>0.409213</td>\n",
              "      <td>2.704416</td>\n",
              "    </tr>\n",
              "    <tr>\n",
              "      <th>1</th>\n",
              "      <td>2020/01/22</td>\n",
              "      <td>Snohomish</td>\n",
              "      <td>WA</td>\n",
              "      <td>1</td>\n",
              "      <td>3.058977</td>\n",
              "      <td>2.777671</td>\n",
              "      <td>3.095057</td>\n",
              "      <td>2.606155</td>\n",
              "      <td>2.884339</td>\n",
              "      <td>3.944103</td>\n",
              "      <td>3.937135</td>\n",
              "      <td>1.311168</td>\n",
              "      <td>0.179679</td>\n",
              "      <td>0.330569</td>\n",
              "      <td>2.198916</td>\n",
              "    </tr>\n",
              "    <tr>\n",
              "      <th>2</th>\n",
              "      <td>2020/01/23</td>\n",
              "      <td>Snohomish</td>\n",
              "      <td>WA</td>\n",
              "      <td>1</td>\n",
              "      <td>2.996701</td>\n",
              "      <td>2.769628</td>\n",
              "      <td>3.057758</td>\n",
              "      <td>2.548271</td>\n",
              "      <td>2.679002</td>\n",
              "      <td>3.819372</td>\n",
              "      <td>3.980777</td>\n",
              "      <td>1.392484</td>\n",
              "      <td>0.420929</td>\n",
              "      <td>0.398164</td>\n",
              "      <td>2.515539</td>\n",
              "    </tr>\n",
              "    <tr>\n",
              "      <th>3</th>\n",
              "      <td>2020/01/24</td>\n",
              "      <td>Cook</td>\n",
              "      <td>IL</td>\n",
              "      <td>1</td>\n",
              "      <td>23.935238</td>\n",
              "      <td>24.534035</td>\n",
              "      <td>24.209167</td>\n",
              "      <td>24.237793</td>\n",
              "      <td>24.187216</td>\n",
              "      <td>23.008318</td>\n",
              "      <td>19.976349</td>\n",
              "      <td>10.637648</td>\n",
              "      <td>13.975480</td>\n",
              "      <td>15.490744</td>\n",
              "      <td>12.750149</td>\n",
              "    </tr>\n",
              "    <tr>\n",
              "      <th>4</th>\n",
              "      <td>2020/01/24</td>\n",
              "      <td>Snohomish</td>\n",
              "      <td>WA</td>\n",
              "      <td>1</td>\n",
              "      <td>3.241778</td>\n",
              "      <td>3.069397</td>\n",
              "      <td>3.320916</td>\n",
              "      <td>2.824478</td>\n",
              "      <td>3.009235</td>\n",
              "      <td>3.930521</td>\n",
              "      <td>3.808948</td>\n",
              "      <td>1.502355</td>\n",
              "      <td>0.634220</td>\n",
              "      <td>0.533355</td>\n",
              "      <td>2.988123</td>\n",
              "    </tr>\n",
              "  </tbody>\n",
              "</table>\n",
              "</div>"
            ],
            "text/plain": [
              "         date     county  ... Number of Trips 250-500  Number of Trips >=500\n",
              "0  2020/01/21  Snohomish  ...                0.409213               2.704416\n",
              "1  2020/01/22  Snohomish  ...                0.330569               2.198916\n",
              "2  2020/01/23  Snohomish  ...                0.398164               2.515539\n",
              "3  2020/01/24       Cook  ...               15.490744              12.750149\n",
              "4  2020/01/24  Snohomish  ...                0.533355               2.988123\n",
              "\n",
              "[5 rows x 15 columns]"
            ]
          },
          "metadata": {},
          "execution_count": 8
        }
      ]
    },
    {
      "cell_type": "code",
      "metadata": {
        "colab": {
          "base_uri": "https://localhost:8080/",
          "height": 312
        },
        "id": "l9KdTycEsAeY",
        "outputId": "36a1dab6-425a-4369-92cd-80840a6ec1aa"
      },
      "source": [
        "# See cases over the entire dataset, grouped by day\n",
        "dates_ordered[['date', 'cases']].sum('cases').plot(title='Cases over Time', ylabel='Log Cases')"
      ],
      "execution_count": null,
      "outputs": [
        {
          "output_type": "execute_result",
          "data": {
            "text/plain": [
              "<matplotlib.axes._subplots.AxesSubplot at 0x7fd013f2f650>"
            ]
          },
          "metadata": {},
          "execution_count": 9
        },
        {
          "output_type": "display_data",
          "data": {
            "image/png": "[encoded data removed]",
            "text/plain": [
              "<Figure size 432x288 with 1 Axes>"
            ]
          },
          "metadata": {
            "needs_background": "light"
          }
        }
      ]
    },
    {
      "cell_type": "markdown",
      "metadata": {
        "id": "TD3P1DJ7DJDL"
      },
      "source": [
        "**Define Train, Val, Test Sets and Normalize All Feature Vectors**"
      ]
    },
    {
      "cell_type": "code",
      "metadata": {
        "id": "kIBBdNI85HYO"
      },
      "source": [
        "# shuff = final_data.sample(frac=1)\n",
        "# X = shuff.iloc[:,4:] #if wanted to shuffle data before splits\n",
        "time_split_all_data = final_data[['cases', 'Number of Trips <1',\t'Number of Trips 1-3',\t'Number of Trips 3-5',\t'Number of Trips 5-10',\t'Number of Trips 10-25',\t'Number of Trips 25-50',\t'Number of Trips 50-100',\t'Number of Trips 100-250', 'Number of Trips 250-500',\t'Number of Trips >=500']].copy() #if we want to just use split by time\n",
        "#min_max_scaler = preprocessing.MinMaxScaler()\n",
        "#time_split_all_data[['Number of Trips <1',\t'Number of Trips 1-3',\t'Number of Trips 3-5',\t'Number of Trips 5-10',\t'Number of Trips 10-25',\t'Number of Trips 25-50',\t'Number of Trips 50-100',\t'Number of Trips 100-250', 'Number of Trips 250-500',\t'Number of Trips >=500']] = min_max_scaler.fit_transform(time_split_all_data[['Number of Trips <1',\t'Number of Trips 1-3',\t'Number of Trips 3-5',\t'Number of Trips 5-10',\t'Number of Trips 10-25',\t'Number of Trips 25-50',\t'Number of Trips 50-100',\t'Number of Trips 100-250', 'Number of Trips 250-500',\t'Number of Trips >=500']])\n",
        "\n",
        "xy_train = time_split_all_data.iloc[160291:, :] #train on later part of data\n",
        "X_train = xy_train.iloc[:, 1:]\n",
        "y_train = xy_train['cases']\n",
        "\n",
        "xy_val_test = time_split_all_data.iloc[0:160290, :] #val and test on beginning of data\n",
        "X_val_test = xy_val_test.iloc[:, 1:]\n",
        "y_val_test = xy_val_test['cases']\n",
        "\n",
        "X_val, X_test, y_val, y_test = train_test_split(X_val_test, y_val_test, test_size=0.50)"
      ],
      "execution_count": null,
      "outputs": []
    },
    {
      "cell_type": "code",
      "metadata": {
        "colab": {
          "base_uri": "https://localhost:8080/"
        },
        "id": "9KRJVhqkDFzJ",
        "outputId": "2a85bf98-1f0e-4eaf-e9f0-ff937b2bc51a"
      },
      "source": [
        "print(\"Train Set Dimensions : \", X_train.shape)\n",
        "print(\"Train Labels Dimensions : \", y_train.shape)\n",
        "print(\"Val Set Dimensions : \", X_val.shape)\n",
        "print(\"Val Labels Dimensions : \", y_val.shape)\n",
        "print(\"Test Set Dimensions : \", X_test.shape)\n",
        "print(\"Test Labels Dimensions : \", y_test.shape)"
      ],
      "execution_count": null,
      "outputs": [
        {
          "output_type": "stream",
          "name": "stdout",
          "text": [
            "Train Set Dimensions :  (1442609, 10)\n",
            "Train Labels Dimensions :  (1442609,)\n",
            "Val Set Dimensions :  (80145, 10)\n",
            "Val Labels Dimensions :  (80145,)\n",
            "Test Set Dimensions :  (80145, 10)\n",
            "Test Labels Dimensions :  (80145,)\n"
          ]
        }
      ]
    },
    {
      "cell_type": "code",
      "metadata": {
        "id": "mvd-XTtp-G9z",
        "colab": {
          "base_uri": "https://localhost:8080/",
          "height": 221
        },
        "outputId": "1d8afef2-59e7-4737-8a02-787bc5c391c4"
      },
      "source": [
        "X_train.head()"
      ],
      "execution_count": null,
      "outputs": [
        {
          "output_type": "execute_result",
          "data": {
            "text/html": [
              "<div>\n",
              "<style scoped>\n",
              "    .dataframe tbody tr th:only-of-type {\n",
              "        vertical-align: middle;\n",
              "    }\n",
              "\n",
              "    .dataframe tbody tr th {\n",
              "        vertical-align: top;\n",
              "    }\n",
              "\n",
              "    .dataframe thead th {\n",
              "        text-align: right;\n",
              "    }\n",
              "</style>\n",
              "<table border=\"1\" class=\"dataframe\">\n",
              "  <thead>\n",
              "    <tr style=\"text-align: right;\">\n",
              "      <th></th>\n",
              "      <th>Number of Trips &lt;1</th>\n",
              "      <th>Number of Trips 1-3</th>\n",
              "      <th>Number of Trips 3-5</th>\n",
              "      <th>Number of Trips 5-10</th>\n",
              "      <th>Number of Trips 10-25</th>\n",
              "      <th>Number of Trips 25-50</th>\n",
              "      <th>Number of Trips 50-100</th>\n",
              "      <th>Number of Trips 100-250</th>\n",
              "      <th>Number of Trips 250-500</th>\n",
              "      <th>Number of Trips &gt;=500</th>\n",
              "    </tr>\n",
              "  </thead>\n",
              "  <tbody>\n",
              "    <tr>\n",
              "      <th>160299</th>\n",
              "      <td>-0.309639</td>\n",
              "      <td>-0.360427</td>\n",
              "      <td>-0.366456</td>\n",
              "      <td>-0.369464</td>\n",
              "      <td>-0.363402</td>\n",
              "      <td>-0.403013</td>\n",
              "      <td>-0.383262</td>\n",
              "      <td>-0.302320</td>\n",
              "      <td>-0.278438</td>\n",
              "      <td>-0.211025</td>\n",
              "    </tr>\n",
              "    <tr>\n",
              "      <th>160300</th>\n",
              "      <td>-0.006330</td>\n",
              "      <td>-0.009394</td>\n",
              "      <td>-0.067866</td>\n",
              "      <td>-0.177383</td>\n",
              "      <td>-0.178855</td>\n",
              "      <td>-0.124712</td>\n",
              "      <td>0.541732</td>\n",
              "      <td>0.510498</td>\n",
              "      <td>0.455360</td>\n",
              "      <td>-0.031553</td>\n",
              "    </tr>\n",
              "    <tr>\n",
              "      <th>160301</th>\n",
              "      <td>-0.280227</td>\n",
              "      <td>-0.304926</td>\n",
              "      <td>-0.294727</td>\n",
              "      <td>-0.313200</td>\n",
              "      <td>-0.326699</td>\n",
              "      <td>-0.326691</td>\n",
              "      <td>-0.299644</td>\n",
              "      <td>0.011590</td>\n",
              "      <td>-0.120499</td>\n",
              "      <td>-0.178893</td>\n",
              "    </tr>\n",
              "    <tr>\n",
              "      <th>160302</th>\n",
              "      <td>-0.282338</td>\n",
              "      <td>-0.266631</td>\n",
              "      <td>-0.332399</td>\n",
              "      <td>-0.331608</td>\n",
              "      <td>-0.318766</td>\n",
              "      <td>-0.349408</td>\n",
              "      <td>-0.328881</td>\n",
              "      <td>-0.291772</td>\n",
              "      <td>-0.120499</td>\n",
              "      <td>-0.170272</td>\n",
              "    </tr>\n",
              "    <tr>\n",
              "      <th>160303</th>\n",
              "      <td>-0.038579</td>\n",
              "      <td>-0.081552</td>\n",
              "      <td>-0.143209</td>\n",
              "      <td>-0.170409</td>\n",
              "      <td>-0.156369</td>\n",
              "      <td>0.029961</td>\n",
              "      <td>0.271786</td>\n",
              "      <td>0.904267</td>\n",
              "      <td>0.084236</td>\n",
              "      <td>-0.069956</td>\n",
              "    </tr>\n",
              "  </tbody>\n",
              "</table>\n",
              "</div>"
            ],
            "text/plain": [
              "        Number of Trips <1  ...  Number of Trips >=500\n",
              "160299           -0.309639  ...              -0.211025\n",
              "160300           -0.006330  ...              -0.031553\n",
              "160301           -0.280227  ...              -0.178893\n",
              "160302           -0.282338  ...              -0.170272\n",
              "160303           -0.038579  ...              -0.069956\n",
              "\n",
              "[5 rows x 10 columns]"
            ]
          },
          "metadata": {},
          "execution_count": 13
        }
      ]
    },
    {
      "cell_type": "code",
      "metadata": {
        "colab": {
          "base_uri": "https://localhost:8080/"
        },
        "id": "tYeKWuCINlHP",
        "outputId": "b5c4fa1f-a977-4e8f-af39-25885042f2eb"
      },
      "source": [
        "#Double check that we have no null/NA values\n",
        "X_train.isnull().any()"
      ],
      "execution_count": null,
      "outputs": [
        {
          "output_type": "execute_result",
          "data": {
            "text/plain": [
              "Number of Trips <1         False\n",
              "Number of Trips 1-3        False\n",
              "Number of Trips 3-5        False\n",
              "Number of Trips 5-10       False\n",
              "Number of Trips 10-25      False\n",
              "Number of Trips 25-50      False\n",
              "Number of Trips 50-100     False\n",
              "Number of Trips 100-250    False\n",
              "Number of Trips 250-500    False\n",
              "Number of Trips >=500      False\n",
              "dtype: bool"
            ]
          },
          "metadata": {},
          "execution_count": 15
        }
      ]
    },
    {
      "cell_type": "code",
      "metadata": {
        "colab": {
          "base_uri": "https://localhost:8080/",
          "height": 298
        },
        "id": "RFUwE76sdjIV",
        "outputId": "e117b693-14b2-4201-8905-2d45ad063930"
      },
      "source": [
        "plt.scatter(X_val.index, y_val, marker='o')\n",
        "plt.title('Validation Cases')\n",
        "plt.ylabel('Case Count')"
      ],
      "execution_count": null,
      "outputs": [
        {
          "output_type": "execute_result",
          "data": {
            "text/plain": [
              "Text(0, 0.5, 'Case Count')"
            ]
          },
          "metadata": {},
          "execution_count": 16
        },
        {
          "output_type": "display_data",
          "data": {
            "image/png": "[encoded data removed]",
            "text/plain": [
              "<Figure size 432x288 with 1 Axes>"
            ]
          },
          "metadata": {
            "needs_background": "light"
          }
        }
      ]
    },
    {
      "cell_type": "code",
      "metadata": {
        "colab": {
          "base_uri": "https://localhost:8080/",
          "height": 298
        },
        "id": "ANGc3izjeA5Z",
        "outputId": "29ab70a5-41c4-4fff-e125-9a17fb838f46"
      },
      "source": [
        "plt.scatter(X_test.index, y_test, marker='o')\n",
        "plt.title('Test Cases')\n",
        "plt.ylabel('Case Count')"
      ],
      "execution_count": null,
      "outputs": [
        {
          "output_type": "execute_result",
          "data": {
            "text/plain": [
              "Text(0, 0.5, 'Case Count')"
            ]
          },
          "metadata": {},
          "execution_count": 17
        },
        {
          "output_type": "display_data",
          "data": {
            "image/png": "[encoded data removed]",
            "text/plain": [
              "<Figure size 432x288 with 1 Axes>"
            ]
          },
          "metadata": {
            "needs_background": "light"
          }
        }
      ]
    },
    {
      "cell_type": "code",
      "metadata": {
        "colab": {
          "base_uri": "https://localhost:8080/",
          "height": 311
        },
        "id": "BL8ab3tceI_m",
        "outputId": "22ac2228-7d26-4a38-8ca2-609ffc59bdc7"
      },
      "source": [
        "plt.scatter(X_train.index, y_train, marker='o')\n",
        "plt.title('Train Cases')\n",
        "plt.ylabel('Case Count')"
      ],
      "execution_count": null,
      "outputs": [
        {
          "output_type": "execute_result",
          "data": {
            "text/plain": [
              "Text(0, 0.5, 'Case Count')"
            ]
          },
          "metadata": {},
          "execution_count": 18
        },
        {
          "output_type": "display_data",
          "data": {
            "image/png": "[encoded data removed]",
            "text/plain": [
              "<Figure size 432x288 with 1 Axes>"
            ]
          },
          "metadata": {
            "needs_background": "light"
          }
        }
      ]
    },
    {
      "cell_type": "markdown",
      "metadata": {
        "id": "u-TFr3h-Ifmt"
      },
      "source": [
        "## Lasso Regression (https://scikit-learn.org/stable/modules/generated/sklearn.linear_model.LassoCV.html#sklearn.linear_model.LassoCV) (L1 Regression)"
      ]
    },
    {
      "cell_type": "code",
      "metadata": {
        "colab": {
          "base_uri": "https://localhost:8080/"
        },
        "id": "LiBL0gbhBuzt",
        "outputId": "2aff0a12-5f03-453e-b851-c77ee23df245"
      },
      "source": [
        "print(\"STARTING MODEL FITTING\")\n",
        "start=time.time()\n",
        "reg_lasso = linear_model.LassoCV(random_state=1, max_iter=100000).fit(X_train, y_train)\n",
        "stop=time.time()\n",
        "print(\"MODEL FITTING FINISHED -- Total Time = \", stop-start, ' ms')"
      ],
      "execution_count": null,
      "outputs": [
        {
          "output_type": "stream",
          "name": "stdout",
          "text": [
            "STARTING MODEL FITTING\n",
            "MODEL FITTING FINISHED -- Total Time =  26.065693855285645  ms\n"
          ]
        }
      ]
    },
    {
      "cell_type": "code",
      "metadata": {
        "id": "O-FtT_pbB4u6",
        "colab": {
          "base_uri": "https://localhost:8080/"
        },
        "outputId": "7494f2b2-1506-49b4-8a05-47fd75609f8a"
      },
      "source": [
        "reg_lasso_params = reg_lasso.get_params()\n",
        "print(reg_lasso_params)"
      ],
      "execution_count": null,
      "outputs": [
        {
          "output_type": "stream",
          "name": "stdout",
          "text": [
            "{'alphas': None, 'copy_X': True, 'cv': None, 'eps': 0.001, 'fit_intercept': True, 'max_iter': 100000, 'n_alphas': 100, 'n_jobs': None, 'normalize': False, 'positive': False, 'precompute': 'auto', 'random_state': 1, 'selection': 'cyclic', 'tol': 0.0001, 'verbose': False}\n"
          ]
        }
      ]
    },
    {
      "cell_type": "code",
      "metadata": {
        "colab": {
          "base_uri": "https://localhost:8080/"
        },
        "id": "0lrDj50UR9cy",
        "outputId": "2ad14956-3627-454d-9de0-6be24c0546f2"
      },
      "source": [
        "print(reg_lasso.coef_)\n",
        "print(reg_lasso.intercept_)"
      ],
      "execution_count": null,
      "outputs": [
        {
          "output_type": "stream",
          "name": "stdout",
          "text": [
            "[ 30731.34551709 -29932.36679242   9016.94197029   8592.66086112\n",
            "    -56.31770971   1564.66479952   -262.87117501    243.9029377\n",
            "    337.65074779   -741.06857771]\n",
            "6382.091728219687\n"
          ]
        }
      ]
    },
    {
      "cell_type": "code",
      "metadata": {
        "colab": {
          "base_uri": "https://localhost:8080/"
        },
        "id": "Fpi8MMxaQdXX",
        "outputId": "32a4295e-60c2-48db-ac25-851e762c03e0"
      },
      "source": [
        "y_pred = reg_lasso.predict(X_val)\n",
        "exp_var_score = explained_variance_score(y_val, y_pred)\n",
        "print(\"Score = \", exp_var_score) #Note that 1.0 is the best"
      ],
      "execution_count": null,
      "outputs": [
        {
          "output_type": "stream",
          "name": "stdout",
          "text": [
            "Score =  -165.08358390029352\n"
          ]
        }
      ]
    },
    {
      "cell_type": "code",
      "metadata": {
        "colab": {
          "base_uri": "https://localhost:8080/",
          "height": 312
        },
        "id": "E0CqCOO_RuwO",
        "outputId": "fd5790f8-e8cd-486b-be00-1d1fedc15a4b"
      },
      "source": [
        "plt.scatter(y_val, y_pred) #Should be a straight line\n",
        "plt.title('Predicted Case Count vs True Case Count')\n",
        "plt.xlabel('True')\n",
        "plt.ylabel('Predicted')"
      ],
      "execution_count": null,
      "outputs": [
        {
          "output_type": "execute_result",
          "data": {
            "text/plain": [
              "Text(0, 0.5, 'Predicted')"
            ]
          },
          "metadata": {},
          "execution_count": 23
        },
        {
          "output_type": "display_data",
          "data": {
            "image/png": "[encoded data removed]",
            "text/plain": [
              "<Figure size 432x288 with 1 Axes>"
            ]
          },
          "metadata": {
            "needs_background": "light"
          }
        }
      ]
    },
    {
      "cell_type": "markdown",
      "metadata": {
        "id": "C1mCV12AWac4"
      },
      "source": [
        "##Ridge Regression (https://scikit-learn.org/stable/modules/generated/sklearn.linear_model.Ridge.html) (L2 Regression)"
      ]
    },
    {
      "cell_type": "code",
      "metadata": {
        "colab": {
          "base_uri": "https://localhost:8080/"
        },
        "id": "egC73OJ_Wwx7",
        "outputId": "bdbc7c39-c3b9-4b18-82d6-d1107f295202"
      },
      "source": [
        "print(\"STARTING MODEL FITTING\")\n",
        "start=time.time()\n",
        "reg_ridge = linear_model.RidgeCV().fit(X_train, y_train)\n",
        "stop=time.time()\n",
        "print(\"MODEL FITTING FINISHED -- Total Time = \", stop-start, ' ms')"
      ],
      "execution_count": null,
      "outputs": [
        {
          "output_type": "stream",
          "name": "stdout",
          "text": [
            "STARTING MODEL FITTING\n",
            "MODEL FITTING FINISHED -- Total Time =  1.1318812370300293  ms\n"
          ]
        }
      ]
    },
    {
      "cell_type": "code",
      "metadata": {
        "colab": {
          "base_uri": "https://localhost:8080/"
        },
        "id": "KBfZWBsfceB7",
        "outputId": "9fb78e42-d2bd-4b5f-c738-6b042075de74"
      },
      "source": [
        "reg_ridge_params = reg_ridge.get_params()\n",
        "print(reg_ridge_params)"
      ],
      "execution_count": null,
      "outputs": [
        {
          "output_type": "stream",
          "name": "stdout",
          "text": [
            "{'alphas': array([ 0.1,  1. , 10. ]), 'cv': None, 'fit_intercept': True, 'gcv_mode': None, 'normalize': False, 'scoring': None, 'store_cv_values': False}\n"
          ]
        }
      ]
    },
    {
      "cell_type": "code",
      "metadata": {
        "colab": {
          "base_uri": "https://localhost:8080/"
        },
        "id": "V6NhFP3KciT3",
        "outputId": "64588ecb-f168-41b1-83f4-53072fccba1b"
      },
      "source": [
        "print(reg_ridge.coef_)\n",
        "print(reg_ridge.intercept_)"
      ],
      "execution_count": null,
      "outputs": [
        {
          "output_type": "stream",
          "name": "stdout",
          "text": [
            "[ 32418.1196839  -36376.87840974  13519.37703388  10230.49157886\n",
            "  -2759.63209134   3216.52025195   -701.71965055    496.17427559\n",
            "    238.55117549   -794.33190875]\n",
            "6366.502092570237\n"
          ]
        }
      ]
    },
    {
      "cell_type": "code",
      "metadata": {
        "colab": {
          "base_uri": "https://localhost:8080/"
        },
        "id": "pgV-B1VGckXu",
        "outputId": "6b849bfd-9849-4031-b57b-d60ad2cba2da"
      },
      "source": [
        "y_pred = reg_ridge.predict(X_val)\n",
        "exp_var_score = explained_variance_score(y_val, y_pred)\n",
        "print(\"Score = \", exp_var_score) #Note that 1.0 is the best"
      ],
      "execution_count": null,
      "outputs": [
        {
          "output_type": "stream",
          "name": "stdout",
          "text": [
            "Score =  -161.2136648356446\n"
          ]
        }
      ]
    },
    {
      "cell_type": "code",
      "metadata": {
        "colab": {
          "base_uri": "https://localhost:8080/",
          "height": 312
        },
        "id": "WuVFVr-Vcl3V",
        "outputId": "d90cccd1-1f9f-4f96-af8f-ff9a665763bc"
      },
      "source": [
        "plt.scatter(y_val, y_pred) #Should be a straight line\n",
        "plt.title('Predicted Case Count vs True Case Count')\n",
        "plt.xlabel('True')\n",
        "plt.ylabel('Predicted')"
      ],
      "execution_count": null,
      "outputs": [
        {
          "output_type": "execute_result",
          "data": {
            "text/plain": [
              "Text(0, 0.5, 'Predicted')"
            ]
          },
          "metadata": {},
          "execution_count": 28
        },
        {
          "output_type": "display_data",
          "data": {
            "image/png": "[encoded data removed]",
            "text/plain": [
              "<Figure size 432x288 with 1 Axes>"
            ]
          },
          "metadata": {
            "needs_background": "light"
          }
        }
      ]
    },
    {
      "cell_type": "markdown",
      "metadata": {
        "id": "TjTRn-gb2PTn"
      },
      "source": [
        "## Split by State (proxy for testing quality) (https://www.nytimes.com/interactive/2020/us/coronavirus-testing.html)"
      ]
    },
    {
      "cell_type": "code",
      "metadata": {
        "id": "H-A5NIZSAwl0"
      },
      "source": [
        "#final_data.head()\n",
        "state_split_all_data = final_data[['state', 'cases', 'Number of Trips <1',\t'Number of Trips 1-3',\t'Number of Trips 3-5',\t'Number of Trips 5-10',\t'Number of Trips 10-25',\t'Number of Trips 25-50',\t'Number of Trips 50-100',\t'Number of Trips 100-250', 'Number of Trips 250-500',\t'Number of Trips >=500']].copy()\n",
        "#First, we normalize using sklearn's MinMaxScaler()\n",
        "#x2 = X2.values #returns a numpy array\n",
        "#min_max_scaler = preprocessing.MinMaxScaler()\n",
        "#state_split_all_data[['Number of Trips <1',\t'Number of Trips 1-3',\t'Number of Trips 3-5',\t'Number of Trips 5-10',\t'Number of Trips 10-25',\t'Number of Trips 25-50',\t'Number of Trips 50-100',\t'Number of Trips 100-250', 'Number of Trips 250-500',\t'Number of Trips >=500']] = min_max_scaler.fit_transform(state_split_all_data[['Number of Trips <1',\t'Number of Trips 1-3',\t'Number of Trips 3-5',\t'Number of Trips 5-10',\t'Number of Trips 10-25',\t'Number of Trips 25-50',\t'Number of Trips 50-100',\t'Number of Trips 100-250', 'Number of Trips 250-500',\t'Number of Trips >=500']])\n",
        "state_split_all_data_normalized = state_split_all_data.sample(frac=1) #shuffle everything\n",
        "\n",
        "X2 = state_split_all_data_normalized[['state', 'Number of Trips <1',\t'Number of Trips 1-3',\t'Number of Trips 3-5',\t'Number of Trips 5-10',\t'Number of Trips 10-25',\t'Number of Trips 25-50',\t'Number of Trips 50-100',\t'Number of Trips 100-250', 'Number of Trips 250-500',\t'Number of Trips >=500']]\n",
        "y2 = state_split_all_data_normalized['cases']\n"
      ],
      "execution_count": null,
      "outputs": []
    },
    {
      "cell_type": "code",
      "metadata": {
        "id": "HxJLMomCYtCi"
      },
      "source": [
        "X_train2 = X2[X2['state'].isin(['VT', 'ME', 'NY', 'RI', 'MA', 'NH', 'CT', 'HI', 'MI', 'WA', 'MD', 'NJ', 'CA'])]\n",
        "X_train2 = X_train2.iloc[:, 1:]\n",
        "y_train2 = y2[X2['state'].isin(['VT', 'ME', 'NY', 'RI', 'MA', 'NH', 'CT', 'HI', 'MI', 'WA', 'MD', 'NJ', 'CA'])]\n",
        "\n",
        "X_val_test2 = X2[X2['state'].isin(['SD', 'IA', 'WY'])]\n",
        "X_val_test2 = X_val_test2.iloc[:, 1:]\n",
        "y_val_test2 = y2[X2['state'].isin(['SD', 'IA', 'WY'])]\n",
        "\n",
        "X_val_states, X_test_states, y_val_states, y_test_states = train_test_split(X_val_test2, y_val_test2, test_size=0.50, random_state=1)"
      ],
      "execution_count": null,
      "outputs": []
    },
    {
      "cell_type": "code",
      "metadata": {
        "colab": {
          "base_uri": "https://localhost:8080/"
        },
        "id": "HUc2NAvQK_z5",
        "outputId": "3ed8c8f2-6c58-4f1a-a98f-ca6644da0fa9"
      },
      "source": [
        "print(\"Train Set Dimensions : \", X_train2.shape)\n",
        "print(\"Train Labels Dimensions : \", y_train2.shape)\n",
        "print(\"Val Set Dimensions : \", X_val_states.shape)\n",
        "print(\"Val Labels Dimensions : \", y_val_states.shape)\n",
        "print(\"Test Set Dimensions : \", X_test_states.shape)\n",
        "print(\"Test Labels Dimensions : \", y_test_states.shape)"
      ],
      "execution_count": null,
      "outputs": [
        {
          "output_type": "stream",
          "name": "stdout",
          "text": [
            "Train Set Dimensions :  (182029, 10)\n",
            "Train Labels Dimensions :  (182029,)\n",
            "Val Set Dimensions :  (48066, 10)\n",
            "Val Labels Dimensions :  (48066,)\n",
            "Test Set Dimensions :  (48067, 10)\n",
            "Test Labels Dimensions :  (48067,)\n"
          ]
        }
      ]
    },
    {
      "cell_type": "markdown",
      "metadata": {
        "id": "QI7A_IslLvC5"
      },
      "source": [
        "### Lasso Regression"
      ]
    },
    {
      "cell_type": "code",
      "metadata": {
        "colab": {
          "base_uri": "https://localhost:8080/"
        },
        "id": "BGq0l-y_La3d",
        "outputId": "e1f53aff-a7a9-4110-f51e-c69e3f71ab3f"
      },
      "source": [
        "print(\"STARTING MODEL FITTING\")\n",
        "start=time.time()\n",
        "reg_lasso = linear_model.LassoCV(random_state=1, max_iter=100000).fit(X_train2, y_train2)\n",
        "stop=time.time()\n",
        "print(\"MODEL FITTING FINISHED -- Total Time = \", stop-start, ' ms')\n"
      ],
      "execution_count": null,
      "outputs": [
        {
          "output_type": "stream",
          "name": "stdout",
          "text": [
            "STARTING MODEL FITTING\n",
            "MODEL FITTING FINISHED -- Total Time =  4.436180353164673  ms\n"
          ]
        }
      ]
    },
    {
      "cell_type": "code",
      "metadata": {
        "colab": {
          "base_uri": "https://localhost:8080/"
        },
        "id": "Wvcq71K1L7z0",
        "outputId": "e43dded6-bb67-4746-f39e-5af2c64dac63"
      },
      "source": [
        "y_pred_states = reg_lasso.predict(X_val_states)\n",
        "exp_var_score = explained_variance_score(y_val_states, y_pred_states)\n",
        "print(\"Score = \", exp_var_score) #Note that 1.0 is the best\n",
        "\n",
        "print(reg_lasso.coef_)\n",
        "print(reg_lasso.intercept_)\n"
      ],
      "execution_count": null,
      "outputs": [
        {
          "output_type": "stream",
          "name": "stdout",
          "text": [
            "Score =  0.6709799052685965\n",
            "[ 21544.98466081 -23554.69623764  21455.08649813  -1630.84380488\n",
            "  -6077.70833792   3841.61542407   1368.47400173    300.41329561\n",
            "   1194.67621448  -2882.0190461 ]\n",
            "4172.102645346794\n"
          ]
        }
      ]
    },
    {
      "cell_type": "code",
      "metadata": {
        "colab": {
          "base_uri": "https://localhost:8080/",
          "height": 312
        },
        "id": "Yp-lQGA5L7_M",
        "outputId": "bd51efc1-6a57-4f5d-e7bf-86fcc8670908"
      },
      "source": [
        "plt.scatter(y_val_states, y_pred_states) #Should be a straight line\n",
        "plt.title('Predicted Case Count vs True Case Count')\n",
        "plt.xlabel('True')\n",
        "plt.ylabel('Predicted')"
      ],
      "execution_count": null,
      "outputs": [
        {
          "output_type": "execute_result",
          "data": {
            "text/plain": [
              "Text(0, 0.5, 'Predicted')"
            ]
          },
          "metadata": {},
          "execution_count": 37
        },
        {
          "output_type": "display_data",
          "data": {
            "image/png": "[encoded data removed]",
            "text/plain": [
              "<Figure size 432x288 with 1 Axes>"
            ]
          },
          "metadata": {
            "needs_background": "light"
          }
        }
      ]
    },
    {
      "cell_type": "markdown",
      "metadata": {
        "id": "fSP9Hq_CmuKW"
      },
      "source": [
        "### Ridge Regression"
      ]
    },
    {
      "cell_type": "code",
      "metadata": {
        "colab": {
          "base_uri": "https://localhost:8080/"
        },
        "id": "eb2NiLnMmtM4",
        "outputId": "7af75997-9d2d-46e7-a4c8-bd58e584cefd"
      },
      "source": [
        "print(\"STARTING MODEL FITTING\")\n",
        "start=time.time()\n",
        "reg_ridge = linear_model.RidgeCV().fit(X_train2, y_train2)\n",
        "stop=time.time()\n",
        "print(\"MODEL FITTING FINISHED -- Total Time = \", stop-start, ' ms')"
      ],
      "execution_count": null,
      "outputs": [
        {
          "output_type": "stream",
          "name": "stdout",
          "text": [
            "STARTING MODEL FITTING\n",
            "MODEL FITTING FINISHED -- Total Time =  0.1819171905517578  ms\n"
          ]
        }
      ]
    },
    {
      "cell_type": "code",
      "metadata": {
        "colab": {
          "base_uri": "https://localhost:8080/"
        },
        "id": "8ZjAPxbkMaY-",
        "outputId": "bfbbff7c-058b-43c1-df1d-1111d4019c81"
      },
      "source": [
        "y_pred_states = reg_ridge.predict(X_val_states)\n",
        "exp_var_score = explained_variance_score(y_val_states, y_pred_states)\n",
        "print(\"Score = \", exp_var_score) #Note that 1.0 is the best"
      ],
      "execution_count": null,
      "outputs": [
        {
          "output_type": "stream",
          "name": "stdout",
          "text": [
            "Score =  0.6571461621501336\n"
          ]
        }
      ]
    },
    {
      "cell_type": "code",
      "metadata": {
        "colab": {
          "base_uri": "https://localhost:8080/",
          "height": 312
        },
        "id": "y_e05aXwnH8V",
        "outputId": "feb4ba51-2644-4e1b-872e-41b844040d10"
      },
      "source": [
        "plt.scatter(y_val_states, y_pred_states) #Should be a straight line\n",
        "plt.title('Predicted Case Count vs True Case Count')\n",
        "plt.xlabel('True')\n",
        "plt.ylabel('Predicted')"
      ],
      "execution_count": null,
      "outputs": [
        {
          "output_type": "execute_result",
          "data": {
            "text/plain": [
              "Text(0, 0.5, 'Predicted')"
            ]
          },
          "metadata": {},
          "execution_count": 78
        },
        {
          "output_type": "display_data",
          "data": {
            "image/png": "[encoded data removed]",
            "text/plain": [
              "<Figure size 432x288 with 1 Axes>"
            ]
          },
          "metadata": {
            "needs_background": "light"
          }
        }
      ]
    },
    {
      "cell_type": "code",
      "metadata": {
        "id": "NpjAPGlhnOb4"
      },
      "source": [
        ""
      ],
      "execution_count": null,
      "outputs": []
    }
  ]
}